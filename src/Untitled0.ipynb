{
 "metadata": {
  "name": "",
  "signature": "sha256:d7b81fbdd84406671f027551d915f6f48945c93082654eb801181a590af7504e"
 },
 "nbformat": 3,
 "nbformat_minor": 0,
 "worksheets": []
}